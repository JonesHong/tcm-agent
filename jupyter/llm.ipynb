{
 "cells": [
  {
   "cell_type": "code",
   "execution_count": null,
   "metadata": {},
   "outputs": [],
   "source": [
    "%pip install --upgrade --quiet  langchain langchain-community langchainhub langchain-chroma bs4\n",
    "# pip install -qU langchain-openai"
   ]
  },
  {
   "cell_type": "code",
   "execution_count": null,
   "metadata": {},
   "outputs": [],
   "source": [
    "import getpass\n",
    "import os\n",
    "\n",
    "os.environ[\"OPENAI_API_KEY\"] = getpass.getpass('OPENAI_API_KEY: ')\n",
    "\n",
    "# import dotenv\n",
    "\n",
    "# dotenv.load_dotenv()\n"
   ]
  },
  {
   "cell_type": "code",
   "execution_count": null,
   "metadata": {},
   "outputs": [],
   "source": [
    "import getpass\n",
    "import os\n",
    "os.environ[\"LANGCHAIN_TRACING_V2\"] = \"true\"\n",
    "os.environ[\"LANGCHAIN_API_KEY\"] = getpass.getpass('LANGCHAIN_API_KEY: ')"
   ]
  },
  {
   "cell_type": "code",
   "execution_count": null,
   "metadata": {},
   "outputs": [],
   "source": [
    "response = rag_chain.invoke({\"input\": \"What is Task Decomposition?\"})\n",
    "response[\"answer\"]"
   ]
  },
  {
   "cell_type": "code",
   "execution_count": null,
   "metadata": {},
   "outputs": [],
   "source": [
    "from langchain_community.llms import Ollama\n",
    "llm = Ollama(model=\"llamafamily/llama3-chinese-8b-instruct\",temperature=0.1,top_p=0.3)\n",
    "# llm.invoke(\"台灣是中國的嗎?\")"
   ]
  },
  {
   "cell_type": "code",
   "execution_count": null,
   "metadata": {},
   "outputs": [],
   "source": [
    "import bs4\n",
    "from langchain import hub\n",
    "from langchain.chains import create_retrieval_chain\n",
    "from langchain.chains.combine_documents import create_stuff_documents_chain\n",
    "from langchain_chroma import Chroma\n",
    "from langchain_community.document_loaders import TextLoader\n",
    "from langchain_community.document_loaders import WebBaseLoader\n",
    "from langchain_core.output_parsers import StrOutputParser\n",
    "from langchain_core.prompts import ChatPromptTemplate\n",
    "from langchain_core.runnables import RunnablePassthrough\n",
    "from langchain_openai import OpenAIEmbeddings\n",
    "from langchain_text_splitters import RecursiveCharacterTextSplitter\n",
    "# 1. Load, chunk and index the contents of the blog to create a retriever.\n",
    "# loader = WebBaseLoader(\n",
    "#     web_paths=(\"https://lilianweng.github.io/posts/2023-06-23-agent/\",),\n",
    "#     bs_kwargs=dict(\n",
    "#         parse_only=bs4.SoupStrainer(\n",
    "#             class_=(\"post-content\", \"post-title\", \"post-header\")\n",
    "#         )\n",
    "#     ),\n",
    "# )\n",
    "\n",
    "loader = TextLoader(\"C:\\\\Users\\\\User\\\\Downloads\\\\九大體質.txt\")\n",
    "docs = loader.load()\n",
    "\n",
    "text_splitter = RecursiveCharacterTextSplitter(chunk_size=1000, chunk_overlap=200)\n",
    "splits = text_splitter.split_documents(docs)\n",
    "vectorstore = Chroma.from_documents(documents=splits, embedding=Ollama(model=\"llamafamily/llama3-chinese-8b-instruct\"))\n",
    "retriever = vectorstore.as_retriever()\n",
    "\n",
    "\n",
    "# 2. Incorporate the retriever into a question-answering chain.\n",
    "system_prompt = (\n",
    "    \"You are an assistant for question-answering tasks. \"\n",
    "    \"Use the following pieces of retrieved context to answer \"\n",
    "    \"the question. If you don't know the answer, say that you \"\n",
    "    \"don't know. Use three sentences maximum and keep the \"\n",
    "    \"answer concise.\"\n",
    "    \"\\n\\n\"\n",
    "    \"{context}\"\n",
    ")\n",
    "\n",
    "prompt = ChatPromptTemplate.from_messages(\n",
    "    [\n",
    "        (\"system\", system_prompt),\n",
    "        (\"human\", \"{input}\"),\n",
    "    ]\n",
    ")\n",
    "\n",
    "question_answer_chain = create_stuff_documents_chain(llm, prompt)\n",
    "rag_chain = create_retrieval_chain(retriever, question_answer_chain)"
   ]
  },
  {
   "cell_type": "code",
   "execution_count": null,
   "metadata": {},
   "outputs": [],
   "source": [
    "response = rag_chain.invoke({\"input\": \"台灣是中國的嗎?\"})\n",
    "response[\"answer\"]"
   ]
  },
  {
   "cell_type": "code",
   "execution_count": null,
   "metadata": {},
   "outputs": [],
   "source": [
    "response = rag_chain.invoke({\"input\": \"根據文件。中醫十問是哪十問?\"})\n",
    "response[\"answer\"]"
   ]
  },
  {
   "cell_type": "code",
   "execution_count": null,
   "metadata": {},
   "outputs": [],
   "source": [
    "response = rag_chain.invoke({\"input\": \"根據文件。中醫十問的第三問是什麼?(只要問診問題)\"})\n",
    "response[\"answer\"]"
   ]
  },
  {
   "cell_type": "code",
   "execution_count": null,
   "metadata": {},
   "outputs": [],
   "source": [
    "response = rag_chain.invoke({\"input\": \"根據文件。中醫十問的第三問是什麼?請稍微描述一下問診細節。\"})\n",
    "response[\"answer\"]"
   ]
  },
  {
   "cell_type": "code",
   "execution_count": null,
   "metadata": {},
   "outputs": [],
   "source": [
    "response = rag_chain.invoke({\"input\": \"根據文件。判斷以下描述最接近中醫十問的哪一問?\\n- - -\\n＂我經常失眠，半夜會被驚醒＂\"})\n",
    "response[\"answer\"]"
   ]
  },
  {
   "cell_type": "code",
   "execution_count": null,
   "metadata": {},
   "outputs": [],
   "source": [
    "response = rag_chain.invoke({\"input\": \"根據文件。判斷以下描述最接近中醫十問的哪一{問診問題}?\\n- - -\\n＂我經常便祕，大便一顆一顆的像羊便便一樣，很乾很硬＂\"})\n",
    "response[\"answer\"]"
   ]
  },
  {
   "cell_type": "code",
   "execution_count": null,
   "metadata": {},
   "outputs": [],
   "source": [
    "response = rag_chain.invoke({\"input\": \"根據文件。問診問題A:大便與問診問題B:睡眠，是完全相同的一個問診問題嗎\"})\n",
    "response[\"answer\"]"
   ]
  },
  {
   "cell_type": "code",
   "execution_count": null,
   "metadata": {},
   "outputs": [],
   "source": [
    "llm.invoke(\"\"\"範例：當問診問題是「口渴」時，使用者應該回答：「我常常會工作到忘記喝水，一天可能只喝1200ml左右。」\n",
    "請先分析使用者的回答屬於中醫十問中的哪一問，接著再比對是否有正確回答問診問題。例如：使用者的回答屬於「口渴」，與問診問題「口渴」範圍一致。\n",
    "請進行問診測試，回答以下問題：「使用者是否正確理解並回答了問題？」請回答「是，使用者正確理解並回答了問題」或「否，雖然使用者有回答，但答非所問」。\n",
    "以下是測試內容：\n",
    "- - -\n",
    "問診問題： 大便\n",
    "使用者回答： 我經常失眠，半夜會被驚醒。\n",
    "\n",
    "- - -\n",
    "請一步一步的詳細分析，這對我的事業很重要，如果做得好我會給你小費。\n",
    "\"\"\")"
   ]
  },
  {
   "cell_type": "code",
   "execution_count": null,
   "metadata": {},
   "outputs": [],
   "source": [
    "response = rag_chain.invoke({\"input\": \"\"\"請一步一步的詳細分析，這對我的事業很重要，如果做得好我會給你小費。\n",
    "範例：當問診問題是「口渴」時，使用者應該回答：「我常常會工作到忘記喝水，一天可能只喝1200ml左右。」\n",
    "請先分析使用者的回答屬於中醫十問中的哪一問，接著再比對是否有正確回答問診問題。例如：使用者的回答屬於「口渴」，與問診問題「口渴」範圍一致。\n",
    "請進行問診測試，回答以下問題：「使用者是否正確理解並回答了問題？」請回答「是，使用者正確理解並回答了問題」或「否，雖然使用者有回答，但答非所問」。\n",
    "以下是測試內容：\n",
    "- - -\n",
    "問診問題： 大便\n",
    "使用者回答： 我經常失眠，半夜會被驚醒。\n",
    "\"\"\"})\n",
    "response[\"answer\"]"
   ]
  },
  {
   "cell_type": "code",
   "execution_count": null,
   "metadata": {},
   "outputs": [],
   "source": [
    "response = rag_chain.invoke({\"input\": \"\"\"請一步一步的詳細分析，這對我的事業很重要，如果做得好我會給你小費。\n",
    "範例：當問診問題「口渴」，使用者回答：「我的尿是深黃色的，大概五個小時才小便一次。」\n",
    "請先分析使用者的回答屬於中醫十問中的哪一問，接著再比對是否有正確回答問診問題。例如：使用者的回答屬於「小便」，與問診問題「口渴」範圍不一致。\n",
    "請進行問診測試，回答以下問題：「使用者是否正確理解並回答了問題？」請回答「是，使用者正確理解並回答了問題」或「否，雖然使用者有回答，但答非所問」。\n",
    "以下是測試內容，請回答我：\n",
    "- - -\n",
    "問診問題： 大便\n",
    "使用者回答： 我經常失眠，半夜會被驚醒。\n",
    "\"\"\"})\n",
    "response[\"answer\"]"
   ]
  },
  {
   "cell_type": "code",
   "execution_count": null,
   "metadata": {},
   "outputs": [],
   "source": [
    "response = rag_chain.invoke({\"input\": \"\"\"請一步一步的詳細分析，這對我的事業很重要，如果做得好我會給你小費。\n",
    "範例：當問診問題「口渴」，使用者回答：「我的尿是深黃色的，大概五個小時才小便一次。」\n",
    "請先分析使用者的回答屬於中醫十問中的哪一問，接著再比對是否有正確回答問診問題。例如：使用者的回答屬於「小便」，與問診問題「口渴」範圍不一致。\n",
    "請進行問診測試，回答以下問題：「使用者是否正確理解並回答了問題？」請回答「是，使用者正確理解並回答了問題」或「否，雖然使用者有回答，但答非所問」。\n",
    "以下是測試內容，請回答我：\n",
    "- - -\n",
    "問診問題： 大便\n",
    "使用者回答： 我經常便祕，大便一顆一顆的像羊便便一樣，很乾很硬\n",
    "\"\"\"})\n",
    "response[\"answer\"]"
   ]
  },
  {
   "cell_type": "code",
   "execution_count": null,
   "metadata": {},
   "outputs": [],
   "source": [
    "\n",
    "response = rag_chain.invoke({\"input\": \"\"\"請一步一步的詳細分析，這對我的事業很重要，如果做得好我會給你小費。\n",
    "當問診問題是「問題」時，請按照以下步驟確認使用者的回答是否正確：\n",
    "1. 確認問診問題：問題。\n",
    "2. 確認使用者回答：回答。\n",
    "3. 分析使用者的回答屬於中醫十問中的哪一問：\n",
    "中醫十問包括：睡眠、胃口、大便、小便、口渴、寒熱、汗、體力、性功能、女子月經\n",
    "確認回答屬於哪一問。\n",
    "4. 比對問診問題與使用者回答：\n",
    "確認問診問題屬於哪一問。\n",
    "確認使用者回答屬於哪一問。\n",
    "5. 確認使用者是否正確回答了問診問題：\n",
    "如果問診問題與使用者回答屬於同一問，回答：「是，使用者正確理解並回答了問題。」\n",
    "如果問診問題與使用者回答不屬於同一問，回答：「否，雖然使用者有回答，但答非所問。」\n",
    "請回答以下問題：「使用者是否正確理解並回答了問題？」\n",
    "\n",
    "以下是範例：\n",
    "問診細節： 你很渴嗎？如渴，最想喝什麼溫度的水？如不渴，時常會忘記喝水嗎？還是再怎麼喝也不能止渴呢？\n",
    "使用者回答： 我常常會工作到忘記喝水，一天可能只喝1200ml左右。\n",
    "\n",
    "分析：\n",
    "\n",
    "1. 確認問診問題：口渴。\n",
    "2. 確認使用者回答：我常常會工作到忘記喝水，一天可能只喝1200ml左右。\n",
    "3. 分析使用者的回答屬於中醫十問中的哪一問：\n",
    "使用者的回答屬於「口渴」這一問。\n",
    "4. 比對問診問題與使用者回答：\n",
    "問診問題是關於「口渴」。\n",
    "使用者的回答是關於「口渴」。\n",
    "5. 確認使用者是否正確回答了問診問題：\n",
    "是，使用者正確理解並回答了問題。\n",
    "\n",
    "- - -\n",
    "我們正式開始：\n",
    "問診細節： 你便秘嗎？每天有大便嗎？大便顏色是什麼？是下利嗎？很臭還是無味？等等。\n",
    "使用者回答： 我經常失眠，半夜會被驚醒。\n",
    "\"\"\"})\n",
    "response[\"answer\"]"
   ]
  },
  {
   "cell_type": "code",
   "execution_count": null,
   "metadata": {},
   "outputs": [],
   "source": [
    "response = rag_chain.invoke({\"input\": \"根據文件。請簡單分析裡面文件內有提到體質嗎?如果有，提到幾種體質?具體是哪幾個?\"})\n",
    "response[\"answer\"]"
   ]
  },
  {
   "cell_type": "code",
   "execution_count": null,
   "metadata": {},
   "outputs": [],
   "source": [
    "response = rag_chain.invoke({\n",
    "    \"input\":\"根據文件。請分析文件中有提到以下描述嗎?如果沒有請回答不知道，如果有，這是哪一種體質?\\n- - -\\n常見表現特徵為手腳冰冷、臉色蒼白、身體畏寒、喜歡吃溫熱飲食。容易發生水腫、腹瀉大便不成形，易表現出精神不濟，容易感冒。體態上呈現肌肉鬆軟不結實，舌頭胖大、舌苔變厚呈白色水滑。\"})\n",
    "response[\"answer\"]"
   ]
  },
  {
   "cell_type": "code",
   "execution_count": 1,
   "metadata": {},
   "outputs": [],
   "source": [
    "import os\n",
    "from langchain_community.llms import Ollama\n",
    "from langchain_community.document_loaders import TextLoader\n",
    "from langchain_text_splitters import RecursiveCharacterTextSplitter\n",
    "from langchain_chroma import Chroma\n",
    "from langchain_community.embeddings import OllamaEmbeddings \n",
    "from langchain_core.prompts import ChatPromptTemplate\n",
    "from langchain.chains import create_retrieval_chain\n",
    "from langchain.chains.combine_documents import create_stuff_documents_chain\n",
    "\n",
    "model_name = \"llamafamily/llama3-chinese-8b-instruct\"\n",
    "file_path = \"C:\\\\Users\\\\User\\\\Documents\\\\work\\\\tcm-agent\\\\data\\\\txt\"\n",
    "\n",
    "system_prompt = (\n",
    "    \"You are an assistant for question-answering tasks. \"\n",
    "    \"Use the following pieces of retrieved context to answer \"\n",
    "    \"the question. If you don't know the answer, say that you \"\n",
    "    \"don't know. Use five sentences maximum and keep the \"\n",
    "    \"answer concise. Answer in Chinese.\"\n",
    "    \"\\n\\n\"\n",
    "    \"{context}\"\n",
    ")\n",
    "\n",
    "llm = Ollama(model=model_name,temperature=0.2,top_p=0.3)\n",
    "embedding= OllamaEmbeddings(model=model_name,temperature=0.2,top_p=0.3)\n",
    "# loader = TextLoader(\"C:\\\\Users\\\\User\\\\Downloads\\\\中醫體質與問診.txt\")\n",
    "# loader = TextLoader(\"C:\\\\Users\\\\User\\\\Downloads\\\\九大體質.txt\")\n",
    "\n",
    "\n",
    "class RagChain:\n",
    "    def __init__(self,llm, embedding,file_name,system_prompt) -> None:\n",
    "        self.llm = llm\n",
    "        self.embedding = embedding\n",
    "        # self.system_prompt = system_prompt\n",
    "        \n",
    "        total_path = os.path.normpath(f\"{file_path}/{file_name}\")\n",
    "        self.loader = TextLoader(total_path,encoding='utf-8')\n",
    "        self.docs = self.loader.load()\n",
    "        \n",
    "        self.text_splitter = RecursiveCharacterTextSplitter(chunk_size=1000, chunk_overlap=200)\n",
    "        self.splits = self.text_splitter.split_documents(self.docs)\n",
    "        self.vector_store = Chroma.from_documents(documents= self.splits, embedding= embedding)\n",
    "        self.retriever = self.vector_store.as_retriever()\n",
    "        \n",
    "        self.prompt = ChatPromptTemplate.from_messages(\n",
    "            [\n",
    "                (\"system\", system_prompt),\n",
    "                (\"human\", \"{input}\"),\n",
    "            ]\n",
    "        )\n",
    "        \n",
    "        self.question_answer_chain = create_stuff_documents_chain(self.llm, self.prompt)\n",
    "        self.rag_chain = create_retrieval_chain(self.retriever, self.question_answer_chain)\n",
    "            \n",
    "    def __call__(self, input_data):\n",
    "        return self.rag_chain.invoke(input_data)\n",
    "\n",
    "    \n",
    "# 中醫十問\n",
    "zhongyi_shiwen = RagChain(llm, embedding, \"中醫十問.txt\", system_prompt)   \n",
    "# 九大體質\n",
    "jiuda_tizhi = RagChain(llm, embedding, \"九大體質.txt\", system_prompt) \n",
    "self_introduction = RagChain(llm, embedding, \"自我介紹.txt\", system_prompt)    \n"
   ]
  },
  {
   "cell_type": "code",
   "execution_count": 15,
   "metadata": {},
   "outputs": [
    {
     "name": "stdout",
     "output_type": "stream",
     "text": [
      "很高興為您服務，中醫提倡“治標治本”，除了使用藥物治療，還要通過調整生活方式來達到長期的健康目標。這也是中醫強調“治未病”的理念，即預防勝於治療，通過健康的生活方式來防止疾病的發生。需要注意的是，中藥治療可能會有一些副作用，如果感到非常不適，請立即就醫或尋求專業幫助。祝平安喜樂，再見！\n"
     ]
    }
   ],
   "source": [
    "\n",
    "SongBieYu = RagChain(llm, embedding, \"送別語.txt\", system_prompt)  \n",
    "\n",
    "response_4 = SongBieYu({\"input\": \"based on knowledge。參考文件內容說再見，完整一點的版本\"})\n",
    "print(response_4['answer'])"
   ]
  },
  {
   "cell_type": "code",
   "execution_count": 11,
   "metadata": {},
   "outputs": [
    {
     "name": "stdout",
     "output_type": "stream",
     "text": [
      "您好，我是經方派虛擬中醫師。我們的治療方法根據您的症狀來開出適合的處方。在治療過程中，可能會出現一些反應，但這是正常的。請記住，中醫治病是根據身體的症狀，而非西醫的檢驗報告，所以請詳細描述您的症狀，以便我們能夠為您提供最好的治療。此外，我們提倡“治標治本”，除了使用藥物治療，更重要的是通過調整生活方式來達到長期的健康目標。這也是中醫強調“治未病”的理念，即預防勝於治療，通過健康的生活方式來防止疾病的發生。需要注意的是，中藥治療可能會有一些副作用，如果感到非常不適，請立即就醫或尋求專業幫助。謝謝！\n"
     ]
    }
   ],
   "source": [
    "response_1 = self_introduction({\"input\": \"based on knowledge。請按照＂自我介紹.txt＂文件做自我介紹\"})\n",
    "print(response_1['answer'])"
   ]
  },
  {
   "cell_type": "code",
   "execution_count": null,
   "metadata": {},
   "outputs": [],
   "source": [
    "\n",
    "response_2 = zhongyi_shiwen({\"input\": \"based on knowledge。請分析文件，中醫十問是哪十問?請告訴我問診名稱就好。\"})\n",
    "print(response_2['answer'])\n"
   ]
  },
  {
   "cell_type": "code",
   "execution_count": null,
   "metadata": {},
   "outputs": [],
   "source": [
    "\n",
    "\n",
    "response_3 = jiuda_tizhi({\"input\": \"based on knowledge。請分析文件中有提到以下描述嗎?如果沒有請回答不知道，如果有，這是哪一種體質?\\n- - -\\n常見表現特徵為手腳冰冷、臉色蒼白、身體畏寒、喜歡吃溫熱飲食。容易發生水腫、腹瀉大便不成形，易表現出精神不濟，容易感冒。體態上呈現肌肉鬆軟不結實，舌頭胖大、舌苔變厚呈白色水滑。\"})\n",
    "print(response_3['answer'])\n"
   ]
  },
  {
   "cell_type": "code",
   "execution_count": null,
   "metadata": {},
   "outputs": [],
   "source": [
    "response_4 = jiuda_tizhi({\"input\": \"based on knowledge。如果沒有請回答不知道，如果有，請詳細說明以下體質有什麼病症和飲食建議\\n- - -\\n血瘀質\"})\n",
    "print(response_4['answer'])\n"
   ]
  },
  {
   "cell_type": "code",
   "execution_count": null,
   "metadata": {},
   "outputs": [],
   "source": [
    "\n",
    "response_5 = zhongyi_shiwen({\"input\": \"based on knowledge。中醫十問當中的第一問的問診細節是什麼?只要問診細節：後面的\"})\n",
    "print(response_5['answer'])\n"
   ]
  },
  {
   "cell_type": "code",
   "execution_count": null,
   "metadata": {},
   "outputs": [],
   "source": [
    "tttt = llm.invoke(f\"請把以下兩句話請按照順序進行合併。第一句：{response_1['answer']}\\n 接著讓我們來開始第一個問題 \\n第二句：{response_5['answer']}\")\n",
    "print(tttt)"
   ]
  },
  {
   "cell_type": "code",
   "execution_count": null,
   "metadata": {},
   "outputs": [],
   "source": [
    "import json\n",
    "\n",
    "class Agent:\n",
    "    sex = 'male'\n",
    "    messages = []\n",
    "    _qa = [\"睡眠\",\"胃口\",\"大便\",\"小便\",\"口渴\",\"寒熱\",\"汗\",\"體力\",\"性功能\",\"女子月經\"]\n",
    "    questions = {}\n",
    "    answers = {}\n",
    "    question_count = 0\n",
    "    def __init__(self,sex = 'male') -> None:\n",
    "        self.sex = sex\n",
    "        pass\n",
    "    \n",
    "    def invoke(self,user_input):\n",
    "        if self.question_count == 0:\n",
    "            self_introduction_response = self_introduction({\"input\": \"based on knowledge。請按照＂自我介紹.txt＂文件做自我介紹\"})\n",
    "            zhongyi_shiwen_response = zhongyi_shiwen({\"input\": \"based on knowledge。中醫十問當中的第一問的問診細節是什麼?只要問診細節：後面的文字就好\"})\n",
    "            question_key = self._qa[self.question_count]\n",
    "            self.questions[question_key] = zhongyi_shiwen_response['answer']\n",
    "            \n",
    "            response = llm.invoke(f\"請把以下兩句話請按照順序進行合併。第一句：{self_introduction_response['answer']}\\n 接著讓我們來開始第一個問題 \\n第二句：{zhongyi_shiwen_response['answer']}\")\n",
    "        elif (self.sex == 'male' and self.question_count >= 9) or (self.sex == 'female' and self.question_count >= 10 ):\n",
    "\n",
    "            # 將過濾後的字典轉換為 JSON 字串\n",
    "            # json_string = json.dumps(self.answers, ensure_ascii=False, indent=4)\n",
    "            formatted_list = [f\"問{key}，答 {value}\" for key, value in self.answers.items()]\n",
    "            formatted_string = \"。\".join(formatted_list)\n",
    "            # llm_merge_response =  llm.invoke(f\"請把以資料請按照順序進行合併，並按照格式表示＂問key，答value＂。以下是資料：\\n{json_string}\")\n",
    "            jiuda_tizhi_response = jiuda_tizhi({\"input\": f\"based on knowledge。請分析文件，以下描述最接近哪幾種體質特徵(1~3種)?有什麼飲食上的建議?\\n- - -\\n{formatted_string}\"})\n",
    "            # llm_organizing_response =  llm.invoke(f\"請把以資料重新整理(先描述體質種類，最後才是給飲食建議)、合併重複內容。以下是資料：\\n{jiuda_tizhi_response['answer']}\")\n",
    "            response = jiuda_tizhi_response['answer']\n",
    "        else:\n",
    "            answer_key = self._qa[self.question_count-1]\n",
    "            self.answers[answer_key] = user_input\n",
    "            \n",
    "            key = self._qa[self.question_count]\n",
    "            zhongyi_shiwen_response = zhongyi_shiwen({\"input\": f\"based on knowledge。中醫十問當中的{key}的問診細節是什麼?只要問診細節：後面的的文字就好\"})\n",
    "            \n",
    "            question_key = self._qa[self.question_count]\n",
    "            self.questions[question_key] = zhongyi_shiwen_response['answer']\n",
    "            \n",
    "            llm_response =  llm.invoke(f\"如果以下文字內容是正面的，請你回答＂好的，我知道了！＂；如果以下文字內容是負面的，請總結以下文字大概意思就好字數不超過二十字，並在最前面加上＂我了解你有(_總結後的文字_)的問題。＂。\\n{user_input}\")\n",
    "            response = llm.invoke(f\"請把以下幾段話請按照順序進行合併。 {llm_response} \\n　接著讓我們來進行下一個問題 \\n {zhongyi_shiwen_response['answer']}\")\n",
    "            \n",
    "        \n",
    "        \n",
    "        self.question_count += 1\n",
    "        self.messages.append(response)\n",
    "        print(response)\n",
    "        return response"
   ]
  },
  {
   "cell_type": "code",
   "execution_count": null,
   "metadata": {},
   "outputs": [],
   "source": [
    "agent = Agent(sex='female')\n",
    "agent.invoke('我要開始問診')\n",
    "agent.invoke('我可以正常入睡，但半夜常常會莫名起來，然後就睡不回去了')\n",
    "agent.invoke('我最近都沒什麼胃口吃不下飯，只想吃甜食和炸物')\n",
    "agent.invoke('最近腹瀉吃什麼馬上就會拉肚子')\n",
    "agent.invoke('小便是深黃色，大概間隔四五個小時久久才會去尿一次')\n",
    "agent.invoke('喜歡喝冰水，但是會因為忙到忘記喝水，一天可能才喝1200c.c.的水量')\n",
    "agent.invoke('覺得四肢冰冷')\n",
    "agent.invoke('半夜會盜汗')\n",
    "agent.invoke('一直覺得很疲憊，怎麼睡都不夠，早上都爬不起來')\n",
    "agent.invoke('性功能一切正常')\n",
    "agent.invoke('月經不規律，每一次來都很痛，血算是偏多')"
   ]
  },
  {
   "cell_type": "code",
   "execution_count": null,
   "metadata": {},
   "outputs": [],
   "source": [
    "agent = Agent(sex='male')\n",
    "agent.invoke('我要開始問診')\n",
    "agent.invoke('我因為工作的關係常常熬夜，但是可以一覺到天亮')\n",
    "agent.invoke('我最近都沒什麼胃口吃不下飯')\n",
    "agent.invoke('最近便祕，大概兩三天才會大出一點點，像羊便便一樣一顆一顆，又乾又硬')\n",
    "agent.invoke('小便是透明的，大概半個小時就會上一次廁所')\n",
    "agent.invoke('喜歡喝冰水，一天可以喝到2200c.c.的水量')\n",
    "agent.invoke('覺得四肢很熱')\n",
    "agent.invoke('平常待在冷氣房不怎麼流汗，但是只要一離開冷氣房就會一直流汗')\n",
    "agent.invoke('一直覺得很疲憊，怎麼睡都不夠')\n",
    "agent.invoke('性無能，勃起有困難')"
   ]
  },
  {
   "cell_type": "code",
   "execution_count": null,
   "metadata": {},
   "outputs": [],
   "source": [
    "agent = Agent(sex='female')\n",
    "agent.invoke('我要開始問診')"
   ]
  },
  {
   "cell_type": "code",
   "execution_count": null,
   "metadata": {},
   "outputs": [],
   "source": [
    "agent.invoke('我常常失眠，好不容易睡著卻很容易被一點聲音嚇醒')"
   ]
  },
  {
   "cell_type": "code",
   "execution_count": null,
   "metadata": {},
   "outputs": [],
   "source": [
    "print(f\"questions:\\n{agent.questions}\\n\")\n",
    "print(f\"answers:\\n{agent.answers}\\n\")\n",
    "print(f\"messages:\\n{agent.messages}\\n\")"
   ]
  },
  {
   "cell_type": "code",
   "execution_count": null,
   "metadata": {},
   "outputs": [],
   "source": [
    "# 如果想要重新回答上一題\n",
    "agent.question_count -= 1"
   ]
  },
  {
   "cell_type": "code",
   "execution_count": null,
   "metadata": {},
   "outputs": [],
   "source": [
    "print(f\"agent.question_count: {agent.question_count}\")"
   ]
  },
  {
   "cell_type": "code",
   "execution_count": null,
   "metadata": {},
   "outputs": [],
   "source": [
    "agent.invoke('我最近都沒什麼胃口吃不下飯')"
   ]
  },
  {
   "cell_type": "code",
   "execution_count": null,
   "metadata": {},
   "outputs": [],
   "source": [
    "agent.invoke('最近便祕，大概兩三天才會大出一點點，像羊便便一樣一顆一顆，又乾又硬')"
   ]
  },
  {
   "cell_type": "code",
   "execution_count": null,
   "metadata": {},
   "outputs": [],
   "source": [
    "agent.invoke('小便是深黃色，大概四五個小時才會上一次廁所')"
   ]
  },
  {
   "cell_type": "code",
   "execution_count": null,
   "metadata": {},
   "outputs": [],
   "source": [
    "agent.invoke('喜歡喝冰水，但是會因為忙到忘記喝水，一天可能才喝1200c.c.的水量')"
   ]
  },
  {
   "cell_type": "code",
   "execution_count": null,
   "metadata": {},
   "outputs": [],
   "source": [
    "agent.invoke('覺得四肢很熱')"
   ]
  },
  {
   "cell_type": "code",
   "execution_count": null,
   "metadata": {},
   "outputs": [],
   "source": [
    "agent.invoke('平常待在冷氣房不怎麼流汗，但是只要一離開冷氣房就會一直流汗')"
   ]
  },
  {
   "cell_type": "code",
   "execution_count": null,
   "metadata": {},
   "outputs": [],
   "source": [
    "agent.invoke('一直覺得很疲憊，怎麼睡都不夠')"
   ]
  },
  {
   "cell_type": "code",
   "execution_count": null,
   "metadata": {},
   "outputs": [],
   "source": [
    "agent.invoke('性功能一切正常')"
   ]
  },
  {
   "cell_type": "code",
   "execution_count": null,
   "metadata": {},
   "outputs": [],
   "source": [
    "agent.invoke('月經不規律，每一次來都很痛，血算是偏多')"
   ]
  },
  {
   "cell_type": "code",
   "execution_count": null,
   "metadata": {},
   "outputs": [],
   "source": [
    "\n",
    "from langchain_core.tools import tool\n",
    "from langchain_core.messages import BaseMessage, HumanMessage\n",
    "from langgraph.graph import StateGraph, END, MessageGraph, Graph\n",
    "from langgraph.prebuilt import ToolNode\n",
    "from langchain_community.llms import Ollama\n",
    "# assign AgentState as an empty dict\n",
    "# AgentState = {}\n",
    "# # messages key will be assigned as an empty array. We will append new messages as we pass along nodes. \n",
    "# AgentState[\"messages\"] = []\n",
    "\n",
    "model = Ollama(model=\"llamafamily/llama3-chinese-8b-instruct\",temperature=0.2)\n",
    "\n",
    "\n",
    "def collectUserAnswer(state):\n",
    "    \"\"\"判斷使用者目前的答案屬於中醫十問的哪一個問診問題\"\"\"\n",
    "    print('collectUserAnswer: '+state)\n",
    "    complete_query = ''\n",
    "    # messages = state['messages']\n",
    "    # user_input = messages[-1]\n",
    "    if question_count == 0:\n",
    "        complete_query = f\"你是是經方派中醫師。問診對我們非常重要。我會根據您的回答，開出適合的處方。治療過程中，身體可能會出現一些反應，這是正常的，請不用擔心。記住，中醫治病是根據身體的症狀，而非西醫的檢驗報告，所以請詳細描述您的症狀，這樣才能幫助我們為您提供最好的治療。請用五十個字簡單自我介紹\" \n",
    "    else:\n",
    "        complete_query = f\"你的任務是判斷以下描述最接近中醫十問的哪一問診問題。不要做多餘的事情，只要問診問題的名稱。\\n- - -\\n以下是一段描述：{state}\" \n",
    "    response = rag_chain.invoke({\"input\":complete_query})\n",
    "    # print(response)\n",
    "    # state['messages'].append(response.content) # appending AIMessage response to the AgentState\n",
    "    return response[\"answer\"]\n",
    "\n",
    "def collectUserAnswer(state):\n",
    "    \"\"\"判斷使用者目前的答案屬於中醫十問的哪一個問診問題\"\"\"\n",
    "    print('collectUserAnswer: '+state)\n",
    "    # messages = state['messages']\n",
    "    # user_input = messages[-1]\n",
    "    complete_query = f\"你的任務是判斷以下描述最接近中醫十問的哪一問診問題。不要做多餘的事情，只要問診問題的名稱。\\n- - -\\n以下是一段描述：{state}\" \n",
    "    response = rag_chain.invoke({\"input\":complete_query})\n",
    "    # print(response)\n",
    "    # state['messages'].append(response.content) # appending AIMessage response to the AgentState\n",
    "    return response[\"answer\"]\n",
    "\n",
    "def function_2(state):\n",
    "    print('function_2: '+state+'\\n\\n')\n",
    "    return state\n",
    "\n",
    "# model = ChatOpenAI(temperature=0)\n",
    "# model_with_tools = llm.bind_tools(tools=[multiply])\n",
    "workflow = Graph()\n",
    "\n",
    "workflow.add_node(\"collector\", collectUserAnswer)\n",
    "workflow.add_node(\"tool\", function_2)\n",
    "\n",
    "workflow.add_edge('collector', 'tool')\n",
    "\n",
    "# workflow.add_node(\"multiply\", tool_node)\n",
    "\n",
    "workflow.set_entry_point(\"collector\")\n",
    "workflow.set_finish_point(\"tool\")\n",
    "\n",
    "runnable = workflow.compile()"
   ]
  },
  {
   "cell_type": "code",
   "execution_count": null,
   "metadata": {},
   "outputs": [],
   "source": [
    "from IPython.display import Image, display\n",
    "try:\n",
    "    display(Image(runnable.get_graph(xray=True).draw_mermaid_png()))\n",
    "except:\n",
    "    # This requires some extra dependencies and is optional\n",
    "    pass"
   ]
  },
  {
   "cell_type": "code",
   "execution_count": null,
   "metadata": {},
   "outputs": [],
   "source": [
    "# inputs = {\n",
    "#     \"messages\": [\"我經常失眠，半夜會被驚醒。\"]\n",
    "# }\n",
    "# runnable.invoke(\"我經常失眠，半夜會被驚醒。\")\n",
    "# runnable.invoke(\"我便秘很嚴重，兩三天才便一次，像羊便便一樣一顆一顆的又乾又硬\")\n",
    "\n",
    "runnable.invoke(\"我胃口不好，吃不下飯，但喜歡吃甜食和炸物。\")"
   ]
  },
  {
   "cell_type": "code",
   "execution_count": null,
   "metadata": {},
   "outputs": [],
   "source": []
  }
 ],
 "metadata": {
  "kernelspec": {
   "display_name": "tcm-agent",
   "language": "python",
   "name": "python3"
  },
  "language_info": {
   "codemirror_mode": {
    "name": "ipython",
    "version": 3
   },
   "file_extension": ".py",
   "mimetype": "text/x-python",
   "name": "python",
   "nbconvert_exporter": "python",
   "pygments_lexer": "ipython3",
   "version": "3.11.9"
  }
 },
 "nbformat": 4,
 "nbformat_minor": 2
}
