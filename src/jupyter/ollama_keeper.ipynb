{
 "cells": [
  {
   "cell_type": "code",
   "execution_count": null,
   "metadata": {},
   "outputs": [],
   "source": [
    " \n",
    "import requests\n",
    "import time\n",
    "from datetime import datetime\n",
    "import pytz\n",
    " \n",
    "def get_bj_time():\n",
    "    beijing_tz = pytz.timezone('Asia/Shanghai')\n",
    "    return datetime.now(beijing_tz).strftime(\"%Y-%m-%d %H:%M:%S\")\n",
    " \n",
    "while True:\n",
    " \n",
    "    data = {\"model\": \"llamafamily/llama3-chinese-8b-instruct\", \"keep_alive\": \"5m\"}\n",
    "    headers = {'Content-Type': 'application/json'}\n",
    "    high_precision_time = time.perf_counter()\n",
    "    response = requests.post('http://localhost:11434/api/generate', json=data, headers=headers)\n",
    "    high_precision_time_end = time.perf_counter()\n",
    "    time1 = high_precision_time_end-high_precision_time\n",
    "    print(f\"高精度時間（精确到微秒）: {time1*1000:.6f}\")\n",
    "    jsonResponse = response.content.decode('utf-8')  # 将 bytes 转换为字符串以便打印\n",
    "    print(jsonResponse)\n",
    "    print(f\"當前時間：{get_bj_time()}\")\n",
    "    time.sleep(280)  # 暂停280秒后再次执行\n",
    " \n",
    "    # '''\n",
    "    # 7b初次加载模型时间：3.867187177s， 第二次加载模型时间：0.766666ms\n",
    "    # 14b初次加载模型时间：5.180146173s , 第二次加载模型时间：0.753414ms\n",
    "    # 72b初次加载模型时间：16.991763358s，第二次加载模型时间：1.358505ms"
   ]
  }
 ],
 "metadata": {
  "kernelspec": {
   "display_name": "tcm-agent",
   "language": "python",
   "name": "python3"
  },
  "language_info": {
   "codemirror_mode": {
    "name": "ipython",
    "version": 3
   },
   "file_extension": ".py",
   "mimetype": "text/x-python",
   "name": "python",
   "nbconvert_exporter": "python",
   "pygments_lexer": "ipython3",
   "version": "3.11.9"
  }
 },
 "nbformat": 4,
 "nbformat_minor": 2
}
