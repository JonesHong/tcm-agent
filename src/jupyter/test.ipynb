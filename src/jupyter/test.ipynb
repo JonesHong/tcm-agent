{
 "cells": [
  {
   "cell_type": "code",
   "execution_count": null,
   "metadata": {},
   "outputs": [],
   "source": [
    "%pip install -qU langchain-ollama"
   ]
  },
  {
   "cell_type": "code",
   "execution_count": 5,
   "metadata": {},
   "outputs": [],
   "source": [
    "from langchain_ollama import ChatOllama\n",
    "# ChatOllama.c\n",
    "\n",
    "llm = ChatOllama(\n",
    "    model=\"llama3.1:8b\",\n",
    "    temperature=0.2,\n",
    "    base_url=\"http://192.168.1.110:11434/\"\n",
    "    # other params...\n",
    ")"
   ]
  },
  {
   "cell_type": "code",
   "execution_count": 57,
   "metadata": {},
   "outputs": [
    {
     "data": {
      "text/plain": [
       "'否'"
      ]
     },
     "execution_count": 57,
     "metadata": {},
     "output_type": "execute_result"
    }
   ],
   "source": [
    "\n",
    "from langchain_core.messages import AIMessage\n",
    "\n",
    "messages = [\n",
    "    (\n",
    "        \"system\",\n",
    "        \"根據使用者提供的訊息，判斷他是否有意圖進行中醫舌診。如果有意圖，回答『是』，否則回答『否』。\",\n",
    "    ),\n",
    "    (\"user\", \"判斷以下意圖。\\n我最近頭暈、噁心、想吐，應該怎麼辦？\"),\n",
    "    (\"ai\", \"否\"),\n",
    "    (\"user\", \"判斷以下意圖。\\n我最近舌頭顏色變了，有點頭暈、噁心，能幫我看看舌頭嗎？\"),\n",
    "    (\"ai\", \"是\"),\n",
    "    (\"user\", \"判斷以下意圖。\\n我心跳常常慢一拍的感覺，胸口很難受\"),\n",
    "]\n",
    "ai_msg = llm.invoke(messages)\n",
    "ai_msg.content\n"
   ]
  },
  {
   "cell_type": "code",
   "execution_count": 53,
   "metadata": {},
   "outputs": [
    {
     "data": {
      "text/plain": [
       "{'content': '否',\n",
       " 'additional_kwargs': {},\n",
       " 'response_metadata': {},\n",
       " 'type': 'ai',\n",
       " 'name': None,\n",
       " 'id': None,\n",
       " 'example': False,\n",
       " 'tool_calls': [],\n",
       " 'invalid_tool_calls': [],\n",
       " 'usage_metadata': None}"
      ]
     },
     "execution_count": 53,
     "metadata": {},
     "output_type": "execute_result"
    }
   ],
   "source": [
    "\n",
    "AIMessage(\"否\").dict()"
   ]
  },
  {
   "cell_type": "code",
   "execution_count": 19,
   "metadata": {},
   "outputs": [
    {
     "data": {
      "text/plain": [
       "AIMessage(content='診斷結果：耳聋、心悸乏力、畏寒感，可能由感冒後汗證導致體內虚弱。', response_metadata={'model': 'llama3.1:8b', 'created_at': '2024-08-26T14:40:28.113754Z', 'message': {'role': 'assistant', 'content': ''}, 'done_reason': 'stop', 'done': True, 'total_duration': 654081300, 'load_duration': 13929000, 'prompt_eval_count': 413, 'prompt_eval_duration': 41719000, 'eval_count': 35, 'eval_duration': 595550000}, id='run-b05fecef-77db-4cee-bb6f-5b781b49791f-0', usage_metadata={'input_tokens': 413, 'output_tokens': 35, 'total_tokens': 448})"
      ]
     },
     "execution_count": 19,
     "metadata": {},
     "output_type": "execute_result"
    }
   ],
   "source": [
    "from langchain_core.messages import AIMessage\n",
    "\n",
    "messages = [\n",
    "    (\n",
    "        \"system\",\n",
    "        \"請將使用者的整句話濃縮總結成一個不超過30字的重點句子。\\n例如，使用者訊息：'我最近經常頭痛，尤其是在下午，工作壓力大，睡眠不好。'，濃縮總結應為：'工作壓力大導致下午頭痛和睡眠不足。\",\n",
    "    ),\n",
    "    (\n",
    "        \"human\",\n",
    "        \"根据周某某的症状和检查结果，我认为他的主要问题是耳聋，而他之前使用过益气聪明汤等治疗方法没有见效。   结合他的病史，感冒后出现了汗证，这可能导致了体内虚弱、肺脏受损等情况。同时，他的舌色淡红，苔薄白，脉细软无力，也表明他有气血不足的问题。  因此，我给出的中医诊断是：  **主症：耳聋**  **次症：心悸乏力、畏寒感**  **病因**:感冒后出现汗证导致体 内虚弱  根据以上的分析，我的处方建议如下：  ***药物组合：** \\t+向肺补气之品，如沙参、黄芪 \\t+益血养阴之品，如枸杞子、熟 地黄 \\t+散风清热之品，如薄荷、三棱 \\t+补益心脉之品，如当归、川楝子 ***方剂：**向肺补气饮散加减服用  具体的煎法和量级需要根据个体情况调整。  以上是我的诊断和处方建议。希望能给周某某带来一些帮助！\\n\\n整句話濃縮總結成一個不超過30字的重點句子\"\n",
    "        ),\n",
    "]\n",
    "ai_msg = llm.invoke(messages)\n",
    "ai_msg"
   ]
  },
  {
   "cell_type": "code",
   "execution_count": 60,
   "metadata": {},
   "outputs": [
    {
     "data": {
      "text/plain": [
       "75.25789874179623"
      ]
     },
     "execution_count": 60,
     "metadata": {},
     "output_type": "execute_result"
    }
   ],
   "source": [
    "\n",
    "import time\n",
    "start_time = time.time()\n",
    "\n",
    "messages = [\n",
    "    (\n",
    "        \"system\",\n",
    "        \"請將使用者的整句話濃縮總結成一個不超過30字的重點句子。\\n例如，使用者訊息：'我最近經常頭痛，尤其是在下午，工作壓力大，睡眠不好。'，濃縮總結應為：'工作壓力大導致下午頭痛和睡眠不足。\",\n",
    "    ),\n",
    "    (\n",
    "        \"human\",\n",
    "        \"根据周某某的症状和检查结果，我认为他的主要问题是耳聋，而他之前使用过益气聪明汤等治疗方法没有见效。   结合他的病史，感冒后出现了汗证，这可能导致了体内虚弱、肺脏受损等情况。同时，他的舌色淡红，苔薄白，脉细软无力，也表明他有气血不足的问题。  因此，我给出的中医诊断是：  **主症：耳聋**  **次症：心悸乏力、畏寒感**  **病因**:感冒后出现汗证导致体 内虚弱  根据以上的分析，我的处方建议如下：  ***药物组合：** \\t+向肺补气之品，如沙参、黄芪 \\t+益血养阴之品，如枸杞子、熟 地黄 \\t+散风清热之品，如薄荷、三棱 \\t+补益心脉之品，如当归、川楝子 ***方剂：**向肺补气饮散加减服用  具体的煎法和量级需要根据个体情况调整。  以上是我的诊断和处方建议。希望能给周某某带来一些帮助！\\n\\n整句話濃縮總結成一個不超過30字的重點句子\"\n",
    "        ),\n",
    "]\n",
    "## 計算 token per seconds\n",
    "is_first_output = False\n",
    "token_list = []\n",
    "first_time = None\n",
    "for token in llm.stream(messages):\n",
    "    # print(token.content)\n",
    "    if not is_first_output:\n",
    "        is_first_output= True\n",
    "        first_time = time.time() - start_time\n",
    "    token_list.append(token.content)\n",
    "response = \"\".join(token_list)\n",
    "execution_time = time.time() - start_time\n",
    "tps_time = len(token_list) / (execution_time - first_time)\n",
    "tps_time"
   ]
  },
  {
   "cell_type": "code",
   "execution_count": null,
   "metadata": {},
   "outputs": [],
   "source": []
  }
 ],
 "metadata": {
  "kernelspec": {
   "display_name": "tcm-agent",
   "language": "python",
   "name": "python3"
  },
  "language_info": {
   "codemirror_mode": {
    "name": "ipython",
    "version": 3
   },
   "file_extension": ".py",
   "mimetype": "text/x-python",
   "name": "python",
   "nbconvert_exporter": "python",
   "pygments_lexer": "ipython3",
   "version": "3.11.9"
  }
 },
 "nbformat": 4,
 "nbformat_minor": 2
}
