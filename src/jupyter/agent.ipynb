{
 "cells": [
  {
   "cell_type": "code",
   "execution_count": 1,
   "metadata": {},
   "outputs": [],
   "source": [
    "from enum import Enum\n",
    "\n",
    "class AgentMode(Enum):\n",
    "    DIAGNOSTIC = \"Diagnostic\"  # Diagnostic mode for medical inquiry (問診模式\")\n",
    "    TONGUE_DIAGNOSIS = \"TongueDiagnosis\"  # Tongue diagnosis mode for health assessment (舌診模式)\n",
    "    EVALUATION_ADVICE = \"EvaluationAndAdvice\"  # Evaluation and advice mode (評估和建議模式)\n",
    "    INQUIRY = \"Inquiry\"    # Inquiry mode for general questions (自由提問模式)\n",
    "    CHITCHAT = \"Chitchat\"      # Chitchat mode for casual conversation (閒聊模式)"
   ]
  },
  {
   "cell_type": "code",
   "execution_count": 4,
   "metadata": {},
   "outputs": [],
   "source": [
    "import os\n",
    "from langchain_community.llms import Ollama\n",
    "from langchain_community.document_loaders import TextLoader\n",
    "from langchain_text_splitters import RecursiveCharacterTextSplitter\n",
    "from langchain_chroma import Chroma\n",
    "from langchain_community.embeddings import OllamaEmbeddings \n",
    "from langchain_core.prompts import ChatPromptTemplate\n",
    "from langchain.chains import create_retrieval_chain\n",
    "from langchain.chains.combine_documents import create_stuff_documents_chain\n",
    "\n",
    "model_name = \"llamafamily/llama3-chinese-8b-instruct\"\n",
    "file_path = \"C:\\\\Users\\\\User\\\\Documents\\\\work\\\\tcm-agent\\\\data\\\\txt\"\n",
    "\n",
    "system_prompt = (\n",
    "    \"You are an assistant for question-answering tasks. \"\n",
    "    \"Use the following pieces of retrieved context to answer \"\n",
    "    \"the question. If you don't know the answer, say that you \"\n",
    "    \"don't know. Use five sentences maximum and keep the \"\n",
    "    \"answer concise. Answer in Chinese.\"\n",
    "    \"\\n\\n\"\n",
    "    \"{context}\"\n",
    ")\n",
    "\n",
    "llm = Ollama(model=model_name,temperature=0.2,top_p=0.3)\n",
    "embedding= OllamaEmbeddings(model=model_name,temperature=0.2,top_p=0.3)\n",
    "# loader = TextLoader(\"C:\\\\Users\\\\User\\\\Downloads\\\\中醫體質與問診.txt\")\n",
    "# loader = TextLoader(\"C:\\\\Users\\\\User\\\\Downloads\\\\九大體質.txt\")\n",
    "\n",
    "\n",
    "class RagChain:\n",
    "    def __init__(self,llm, embedding,file_name,system_prompt) -> None:\n",
    "        self.llm = llm\n",
    "        self.embedding = embedding\n",
    "        # self.system_prompt = system_prompt\n",
    "        \n",
    "        total_path = os.path.normpath(f\"{file_path}/{file_name}\")\n",
    "        self.loader = TextLoader(total_path,encoding='utf-8')\n",
    "        self.docs = self.loader.load()\n",
    "        \n",
    "        self.text_splitter = RecursiveCharacterTextSplitter(chunk_size=1000, chunk_overlap=200)\n",
    "        self.splits = self.text_splitter.split_documents(self.docs)\n",
    "        self.vector_store = Chroma.from_documents(documents= self.splits, embedding= embedding)\n",
    "        self.retriever = self.vector_store.as_retriever()\n",
    "        \n",
    "        self.prompt = ChatPromptTemplate.from_messages(\n",
    "            [\n",
    "                (\"system\", system_prompt),\n",
    "                (\"human\", \"{input}\"),\n",
    "            ]\n",
    "        )\n",
    "        \n",
    "        self.question_answer_chain = create_stuff_documents_chain(self.llm, self.prompt)\n",
    "        self.rag_chain = create_retrieval_chain(self.retriever, self.question_answer_chain)\n",
    "            \n",
    "    def __call__(self, input_data):\n",
    "        return self.rag_chain.invoke(input_data)\n",
    "\n",
    "    \n",
    "# 中醫十問\n",
    "ZhongyiShiwen = RagChain(llm, embedding, \"中醫十問.txt\", system_prompt)   \n",
    "# 九大體質\n",
    "JiudaTizhi = RagChain(llm, embedding, \"九大體質.txt\", system_prompt) \n",
    "SelfIntroduction = RagChain(llm, embedding, \"自我介紹.txt\", system_prompt)  \n",
    "SongBieYu = RagChain(llm, embedding, \"送別語.txt\", system_prompt)  \n",
    "\n",
    "\n",
    "\n",
    "# response_1 = ZhongyiShiwen({\"input\": \"based on knowledge。請按照＂自我介紹.txt＂文件做自我介紹\"})\n",
    "# print(response_1['answer'])\n",
    "\n",
    "# response_2 = JiudaTizhi({\"input\": \"based on knowledge。請分析文件，中醫十問是哪十問?請告訴我問診名稱就好。\"})\n",
    "# print(response_2['answer'])\n",
    "\n",
    "# response_3 = SelfIntroduction({\"input\": \"based on knowledge。請分析文件中有提到以下描述嗎?如果沒有請回答不知道，如果有，這是哪一種體質?\\n- - -\\n常見表現特徵為手腳冰冷、臉色蒼白、身體畏寒、喜歡吃溫熱飲食。容易發生水腫、腹瀉大便不成形，易表現出精神不濟，容易感冒。體態上呈現肌肉鬆軟不結實，舌頭胖大、舌苔變厚呈白色水滑。\"})\n",
    "# print(response_3['answer'])\n",
    "\n",
    "\n",
    "# response_4 = SongBieYu({\"input\": \"based on knowledge。請參考＂送別語.txt＂文件做送別的話語\"})\n",
    "# print(response_4['answer'])"
   ]
  },
  {
   "cell_type": "code",
   "execution_count": 22,
   "metadata": {},
   "outputs": [],
   "source": [
    "\n",
    "from abc import ABC, abstractmethod\n",
    "\n",
    "# redis.core = RedisCore()\n",
    "\n",
    "class InteractionStrategy(ABC):\n",
    "    @abstractmethod\n",
    "    def handle_interaction(self, agent, user_input):\n",
    "        pass\n",
    "\n",
    "      \n",
    "# Diagnostic mode for medical inquiry (問診模式\")\n",
    "class DiagnosticStrategy(InteractionStrategy):\n",
    "    def handle_interaction(self, agent, user_input):\n",
    "        response = None\n",
    "        if agent.question_count == 0:\n",
    "            self_introduction_response = SelfIntroduction({\"input\": \"根據知識庫。請按照＂自我介紹.txt＂文件做自我介紹\"})\n",
    "            zhongyi_shiwen_response = ZhongyiShiwen({\"input\": \"根據知識庫。中醫十問當中的第一問的問診細節是什麼?只要問診細節：後面的文字就好\"})\n",
    "            question_key = agent.qa[agent.question_count]\n",
    "            agent.questions[question_key] = zhongyi_shiwen_response['answer']\n",
    "\n",
    "            response = llm.invoke(f\"請把以下兩句話請按照順序進行合併。第一句：{self_introduction_response['answer']}\\n 接著讓我們來開始第一個問題 \\n第二句：{zhongyi_shiwen_response['answer']}\")\n",
    "        elif (agent.sex == 'male' and agent.question_count >= 9) or (agent.sex == 'female' and agent.question_count >= 10):\n",
    "            # 源邏輯，移去評估和建議了\n",
    "            # response = llm.invoke(f\"請把以下幾段話請按照順序進行合併。\\n第一句話: 接著讓我們進行舌診，請將舌頭伸出，配合畫面上的資訊 \\n　第二句話: 我們會結合剛剛的問診和舌診給出評估和建議\")\n",
    "            # response = f\"接下是舌診，請將舌頭伸出，配合畫面上的指示。我們會結合剛剛的問診和舌診給出評估和建議\"\n",
    "            # RedisCore.publisher(RedisChannel.do_aikanshe_service,'do ai kan she from Agent strategy.')\n",
    "            agent.mode = AgentMode.TONGUE_DIAGNOSIS \n",
    "            agent.invoke('接著是舌診')\n",
    "            # response=\n",
    "            \n",
    "        else:\n",
    "            answer_key = agent.qa[agent.question_count - 1]\n",
    "            agent.answers[answer_key] = user_input\n",
    "\n",
    "            key = agent.qa[agent.question_count]\n",
    "            zhongyi_shiwen_response = ZhongyiShiwen({\"input\": f\"根據知識庫。中醫十問當中的{key}的問診細節是什麼?只要問診細節：後面的的文字就好\"})\n",
    "\n",
    "            question_key = agent.qa[agent.question_count]\n",
    "            agent.questions[question_key] = zhongyi_shiwen_response['answer']\n",
    "\n",
    "            llm_response = llm.invoke(f\"如果以下文字內容是正面的，請你回答＂好的，我知道了！＂；如果以下文字內容是負面的，請總結以下文字大概意思就好字數不超過二十字，並在最前面加上＂我了解你有(_總結後的文字_)的問題。＂。\\n{user_input}\")\n",
    "            # response = llm.invoke(f\"請把以下幾段話請按照順序進行合併。 {llm_response} \\n　接著讓我們來進行下一個問題 \\n {zhongyi_shiwen_response['answer']}\")\n",
    "            response = f\"{llm_response} 。接著讓我們來進行下一個問題，{zhongyi_shiwen_response['answer']}\"\n",
    "\n",
    "        agent.question_count += 1\n",
    "        if response is not None:\n",
    "            agent.messages.append(response)\n",
    "        return response\n",
    "\n",
    "# Tongue diagnosis mode for health assessment (舌診模式)\n",
    "class TongueDiagnosis(InteractionStrategy):\n",
    "    def handle_interaction(self, agent, user_input):\n",
    "        print(user_input)\n",
    "        # agent.redis_client.publish(R)\n",
    "        # RedisCore.publisher(RedisChannel.do_aikanshe_service,'do ai kan she from Agent strategy.')\n",
    "        # response = llm.invoke(f\"Chitchat response for input: {user_input}\")\n",
    "        response = f\"接下是舌診，請將舌頭伸出，配合畫面上的指示。我們會結合剛剛的問診和舌診給出評估和建議\"\n",
    "        # RedisCore.publisher(RedisChannel.do_aikanshe_service,'do ai kan she from Agent strategy.')\n",
    "        agent.messages.append(response)\n",
    "        return response\n",
    "        # pass\n",
    "\n",
    "# Evaluation and advice mode (評估和建議模式)\n",
    "class EvaluationAndAdvice(InteractionStrategy):\n",
    "    def handle_interaction(self, agent, user_input):\n",
    "        formatted_list = [f\"問{key}，答 {value}\" for key, value in agent.answers.items()]\n",
    "        formatted_string = \"。\".join(formatted_list)\n",
    "        jiuda_tizhi_response = JiudaTizhi({\"input\": f\"根據知識庫。請分析文件，以下描述最接近哪幾種體質特徵(1~3種)?有什麼飲食上的建議?請用中文回答\\n- - -\\n{formatted_string}\"})\n",
    "        response = jiuda_tizhi_response['answer']\n",
    "        agent.messages.append(response)\n",
    "        return response\n",
    "\n",
    "# Inquiry mode for general questions (自由提問模式)\n",
    "class InquiryStrategy(InteractionStrategy):\n",
    "    def handle_interaction(self, agent, user_input):\n",
    "        # 自由提問模式的具體邏輯在這裡實現\n",
    "        # 串接 RagFlow 使用大量額外資料，提供自由問答\n",
    "        response = llm.invoke(f\"Chitchat response for input: {user_input}\")\n",
    "        agent.messages.append(response)\n",
    "        return response\n",
    "# Chitchat mode for casual conversation (閒聊模式)\n",
    "class ChitchatStrategy(InteractionStrategy):\n",
    "    def handle_interaction(self, agent, user_input):\n",
    "        # 閒聊模式的具體邏輯在這裡實現\n",
    "        response = llm.invoke(f\"Chitchat response for input: {user_input}\")\n",
    "        agent.messages.append(response)\n",
    "        return response"
   ]
  },
  {
   "cell_type": "code",
   "execution_count": 5,
   "metadata": {},
   "outputs": [],
   "source": [
    "\n",
    "# 获取项目根目录\n",
    "import os\n",
    "import sys\n",
    "from typing import Literal\n",
    "\n",
    "from reactivex.subject.behaviorsubject import BehaviorSubject\n",
    "from redis import Redis\n",
    "\n",
    "\n",
    "class Agent:\n",
    "    user_info_from_yolo = None\n",
    "    modeSub:BehaviorSubject\n",
    "    def __init__(self):\n",
    "        self.__mode = AgentMode.DIAGNOSTIC\n",
    "        self.modeSub = BehaviorSubject(self.__mode)\n",
    "        self.__qa = [\"睡眠\", \"胃口\", \"大便\", \"小便\", \"口渴\", \"寒熱\", \"汗\", \"體力\", \"性功能\", \"女子月經\"]\n",
    "        self.initial()\n",
    "        \n",
    "\n",
    "    def initial(self):\n",
    "        self.user_info_from_yolo = None\n",
    "        self.__sex: Literal['male', 'female']  = 'male'\n",
    "        self.__messages = []\n",
    "        self.__questions = {}\n",
    "        self.__answers = {}\n",
    "        self.__question_count = 0\n",
    "        self.__strategy = DiagnosticStrategy()\n",
    "        self.transformed_data = {\"age\": None, \"male\": None}\n",
    "        # self.question_count = None\n",
    "        \n",
    "    @property\n",
    "    def mode(self):\n",
    "        return self.__mode\n",
    "    @property\n",
    "    def sex(self) -> Literal['male', 'female']:\n",
    "        return self.__sex\n",
    "    @property\n",
    "    def messages(self):\n",
    "        return self.__messages\n",
    "    @property\n",
    "    def qa(self):\n",
    "        return self.__qa\n",
    "    @property\n",
    "    def questions(self):\n",
    "        return self.__questions\n",
    "    @property\n",
    "    def answers(self):\n",
    "        return self.__answers\n",
    "    @property\n",
    "    def question_count(self):\n",
    "        return self.__question_count\n",
    "    \n",
    "    @mode.setter\n",
    "    def mode(self, value):\n",
    "        if self.__mode != value:\n",
    "            self.modeSub.on_next(value)\n",
    "            \n",
    "        self.__mode = value\n",
    "        if value == AgentMode.DIAGNOSTIC:\n",
    "            self.__strategy = DiagnosticStrategy()\n",
    "        elif value == AgentMode.TONGUE_DIAGNOSIS:\n",
    "            self.__strategy = TongueDiagnosis()\n",
    "        elif value == AgentMode.EVALUATION_ADVICE:\n",
    "            self.__strategy = EvaluationAndAdvice()\n",
    "        elif value == AgentMode.INQUIRY:\n",
    "            self.__strategy = InquiryStrategy()\n",
    "        elif value == AgentMode.CHITCHAT:\n",
    "            self.__strategy = ChitchatStrategy()\n",
    "            \n",
    "    @sex.setter\n",
    "    def sex(self, value: Literal['male', 'female']):\n",
    "        if value not in ['male', 'female']:\n",
    "            raise ValueError(\"Sex must be 'male' or 'female'\")\n",
    "        self.__sex = value\n",
    "    @question_count.setter\n",
    "    def question_count(self, value):\n",
    "        if value is None:\n",
    "            pass\n",
    "        elif value < self.__question_count:\n",
    "            print(f\"請注意，此操作可能會導致重複回答已經回答過的問題。\\n目前問題是關於:(問題{self.__question_count}){self.__qa[self.__question_count]}，你將回到(問題{value}){self.__qa[value]}。\")\n",
    "        elif value > self.__question_count and value != self.__question_count + 1:\n",
    "            print(f\"請注意，此操作可能會導致問題被跳過。\\n目前問題是關於:(問題{self.__question_count}){self.__qa[self.__question_count]}，你將跳到(問題{value}){self.__qa[value]}。\")\n",
    "        self.__question_count = value\n",
    "\n",
    "    def invoke(self, user_input):\n",
    "        if self.question_count is not None:\n",
    "            return self.__strategy.handle_interaction(self, user_input)\n",
    "        else:\n",
    "            return '請稍後在試。'"
   ]
  },
  {
   "cell_type": "code",
   "execution_count": 23,
   "metadata": {},
   "outputs": [],
   "source": [
    "agent = Agent()"
   ]
  },
  {
   "cell_type": "code",
   "execution_count": 24,
   "metadata": {},
   "outputs": [
    {
     "data": {
      "text/plain": [
       "'您好，我是一名中醫師，在治療過程中，可能會出現一些反應，這是正常的，不需要擔心。請記住，中醫治病是根據身體的症狀，而非西醫的檢驗報告，所以請詳細描述您的症狀，以便我們能夠為您提供最好的治療。讓我們來開始第一個問題，您好嗎？'"
      ]
     },
     "execution_count": 24,
     "metadata": {},
     "output_type": "execute_result"
    }
   ],
   "source": [
    "agent.invoke('開始問診')"
   ]
  },
  {
   "cell_type": "code",
   "execution_count": 25,
   "metadata": {},
   "outputs": [
    {
     "name": "stdout",
     "output_type": "stream",
     "text": [
      "請注意，此操作可能會導致問題被跳過。\n",
      "目前問題是關於:(問題1)胃口，你將跳到(問題8)性功能。\n"
     ]
    }
   ],
   "source": [
    "agent.question_count=9"
   ]
  },
  {
   "cell_type": "code",
   "execution_count": 27,
   "metadata": {},
   "outputs": [
    {
     "name": "stdout",
     "output_type": "stream",
     "text": [
      "接著是舌診\n"
     ]
    }
   ],
   "source": [
    "agent.invoke('性功能一切正常')"
   ]
  },
  {
   "cell_type": "code",
   "execution_count": 28,
   "metadata": {},
   "outputs": [
    {
     "data": {
      "text/plain": [
       "['您好，我是一名中醫師，在治療過程中，可能會出現一些反應，這是正常的，不需要擔心。請記住，中醫治病是根據身體的症狀，而非西醫的檢驗報告，所以請詳細描述您的症狀，以便我們能夠為您提供最好的治療。讓我們來開始第一個問題，您好嗎？',\n",
       " '我了解你有正常性的問題。 。接著讓我們來進行下一個問題，問診問題： 性功能\\n問診細節： 你性功能好嗎？等等。',\n",
       " '接下是舌診，請將舌頭伸出，配合畫面上的指示。我們會結合剛剛的問診和舌診給出評估和建議']"
      ]
     },
     "execution_count": 28,
     "metadata": {},
     "output_type": "execute_result"
    }
   ],
   "source": [
    "agent.messages"
   ]
  },
  {
   "cell_type": "code",
   "execution_count": 29,
   "metadata": {},
   "outputs": [
    {
     "data": {
      "text/plain": [
       "<AgentMode.TONGUE_DIAGNOSIS: 'TongueDiagnosis'>"
      ]
     },
     "execution_count": 29,
     "metadata": {},
     "output_type": "execute_result"
    }
   ],
   "source": [
    "agent.mode"
   ]
  },
  {
   "cell_type": "code",
   "execution_count": null,
   "metadata": {},
   "outputs": [],
   "source": []
  }
 ],
 "metadata": {
  "kernelspec": {
   "display_name": "tcm-agent",
   "language": "python",
   "name": "python3"
  },
  "language_info": {
   "codemirror_mode": {
    "name": "ipython",
    "version": 3
   },
   "file_extension": ".py",
   "mimetype": "text/x-python",
   "name": "python",
   "nbconvert_exporter": "python",
   "pygments_lexer": "ipython3",
   "version": "3.11.9"
  }
 },
 "nbformat": 4,
 "nbformat_minor": 2
}
