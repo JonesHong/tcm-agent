{
 "cells": [
  {
   "cell_type": "code",
   "execution_count": 10,
   "metadata": {},
   "outputs": [
    {
     "name": "stdout",
     "output_type": "stream",
     "text": [
      "Published: {\"text\": \"\\u6bcf\\u5929\\u71ac\\u591c\\u7761\\u4e0d\\u8457\\uff0c\\u5931\\u7720\"}\n"
     ]
    }
   ],
   "source": [
    "import redis\n",
    "import json\n",
    "\n",
    "\n",
    "class RedisChannel:\n",
    "    vip_event = 'vip-event'\n",
    "    do_tts_service = \"do-tts-service\"\n",
    "    tts_service_done = \"tts-service-done\"\n",
    "    do_asr_service = \"do-asr-service\"\n",
    "    asr_service_done = \"asr-service-done\"\n",
    "    \n",
    "    agent_question_count = 'agent-question-count'\n",
    "    agent_mode = 'agent-mode'\n",
    "    conversation_id = 'conversation-id'\n",
    "    \n",
    "    \n",
    "    do_agent_invoke = \"do-agent-invoke\"\n",
    "    agent_invoke_done = \"agent-invoke-done\"\n",
    "    \n",
    "    do_aikanshe_service = \"do-aikanshe-service\" # ai看舌\n",
    "    photo_taken = 'photo-taken'\n",
    "    aikanshe_service_done = \"aikanshe-service-done\"\n",
    "    \n",
    "    \n",
    "    \n",
    "    \n",
    "    \n",
    "def publisher(channel, message):\n",
    "    redis_client.publish(channel, message)\n",
    "    print(f\"Published: {message}\")\n",
    "redis_client = redis.Redis(host='localhost', port=51201)\n",
    "# redis_client = redis.Redis(host='localhost', port=6379)\n",
    "\n",
    "# # publisher(RedisChannel.do_asr_service, 3333)\n",
    "# conversation_id = redis_client.get(RedisChannel.conversation_id)\n",
    "# print(conversation_id)\n",
    "# message = json.dumps({\"state\": 1}) # 開啟ASR\n",
    "# message = json.dumps({\"state\": 0}) # 關閉ASR\n",
    "# message = \"每天熬夜睡不著，失眠\"\n",
    "# publisher(RedisChannel.do_agent_invoke, message)\n",
    "# message = {\"text\":\"每天熬夜睡不著，失眠\"}\n",
    "# publisher(RedisChannel.do_tts_service,  json.dumps(message))\n",
    "message = {\"text\":\"每天熬夜睡不著，失眠\"}\n",
    "publisher(RedisChannel.asr_service_done,  json.dumps(message))"
   ]
  },
  {
   "cell_type": "code",
   "execution_count": null,
   "metadata": {},
   "outputs": [],
   "source": []
  }
 ],
 "metadata": {
  "kernelspec": {
   "display_name": "tcm-agent",
   "language": "python",
   "name": "python3"
  },
  "language_info": {
   "codemirror_mode": {
    "name": "ipython",
    "version": 3
   },
   "file_extension": ".py",
   "mimetype": "text/x-python",
   "name": "python",
   "nbconvert_exporter": "python",
   "pygments_lexer": "ipython3",
   "version": "3.11.9"
  }
 },
 "nbformat": 4,
 "nbformat_minor": 2
}
