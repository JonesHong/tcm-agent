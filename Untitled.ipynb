{
 "cells": [
  {
   "cell_type": "code",
   "execution_count": 1,
   "id": "7214ec19-bba5-4dac-abb0-d98c4197d6a3",
   "metadata": {},
   "outputs": [],
   "source": [
    "name_list =  ['a' , 'b', 'c']\n",
    "code_list =  [5, 9, 6]"
   ]
  },
  {
   "cell_type": "code",
   "execution_count": 3,
   "id": "a5430c97-a4c3-445d-aef2-eb76867b331f",
   "metadata": {},
   "outputs": [
    {
     "name": "stdout",
     "output_type": "stream",
     "text": [
      "0\n",
      "code: a\n",
      "name: 5\n",
      "1\n",
      "code: b\n",
      "name: 9\n",
      "2\n",
      "code: c\n",
      "name: 6\n"
     ]
    }
   ],
   "source": [
    "for item in range(len(name_list)):\n",
    "    print(item)\n",
    "    print(f\"code: {name_list[item]}\")\n",
    "    print(f\"name: {code_list[item]}\")"
   ]
  },
  {
   "cell_type": "code",
   "execution_count": null,
   "id": "87865720-bed8-46fa-aeff-e97668f8eb05",
   "metadata": {},
   "outputs": [],
   "source": [
    "?zip"
   ]
  },
  {
   "cell_type": "code",
   "execution_count": 11,
   "id": "b262eea2-573a-43d9-9e56-b7d4e840f13d",
   "metadata": {},
   "outputs": [],
   "source": [
    "name_list_v2 = name_list + [343]"
   ]
  },
  {
   "cell_type": "code",
   "execution_count": 7,
   "id": "d8ed47b6-8cd7-4809-8c0c-c1f8d760b28d",
   "metadata": {
    "scrolled": true
   },
   "outputs": [
    {
     "name": "stdout",
     "output_type": "stream",
     "text": [
      "code: 5\n",
      "name: a\n",
      "0\n",
      "code: 9\n",
      "name: b\n",
      "1\n",
      "code: 6\n",
      "name: c\n",
      "2\n"
     ]
    }
   ],
   "source": [
    "for i_c, i_n in zip(code_list, name_list):\n",
    "    # print(item)\n",
    "    print(f\"code: {i_c}\")\n",
    "    print(f\"name: {i_n}\")\n",
    "    print(code_list.index(i_c))"
   ]
  },
  {
   "cell_type": "code",
   "execution_count": 15,
   "id": "4e48e5e3-7991-4cf7-b1b6-b9d1193669de",
   "metadata": {},
   "outputs": [
    {
     "name": "stdout",
     "output_type": "stream",
     "text": [
      "0\n",
      "code: a\n",
      "name: 5\n",
      "1\n",
      "code: b\n",
      "name: 9\n",
      "2\n",
      "code: c\n",
      "name: 6\n",
      "3\n",
      "code: 343\n"
     ]
    },
    {
     "ename": "IndexError",
     "evalue": "list index out of range",
     "output_type": "error",
     "traceback": [
      "\u001b[1;31m---------------------------------------------------------------------------\u001b[0m",
      "\u001b[1;31mIndexError\u001b[0m                                Traceback (most recent call last)",
      "Cell \u001b[1;32mIn[15], line 4\u001b[0m\n\u001b[0;32m      2\u001b[0m \u001b[38;5;28mprint\u001b[39m(item)\n\u001b[0;32m      3\u001b[0m \u001b[38;5;28mprint\u001b[39m(\u001b[38;5;124mf\u001b[39m\u001b[38;5;124m\"\u001b[39m\u001b[38;5;124mcode: \u001b[39m\u001b[38;5;132;01m{\u001b[39;00mname_list_v2[item]\u001b[38;5;132;01m}\u001b[39;00m\u001b[38;5;124m\"\u001b[39m)\n\u001b[1;32m----> 4\u001b[0m \u001b[38;5;28mprint\u001b[39m(\u001b[38;5;124mf\u001b[39m\u001b[38;5;124m\"\u001b[39m\u001b[38;5;124mname: \u001b[39m\u001b[38;5;132;01m{\u001b[39;00mcode_list[item]\u001b[38;5;132;01m}\u001b[39;00m\u001b[38;5;124m\"\u001b[39m)\n",
      "\u001b[1;31mIndexError\u001b[0m: list index out of range"
     ]
    }
   ],
   "source": [
    "for item in range(len(name_list_v2)):\n",
    "    print(item)\n",
    "    print(f\"code: {name_list_v2[item]}\")\n",
    "    print(f\"name: {code_list[item]}\")"
   ]
  },
  {
   "cell_type": "code",
   "execution_count": 21,
   "id": "1f9f6180-ac6e-4ea0-9c42-ba9146ac8efb",
   "metadata": {},
   "outputs": [
    {
     "name": "stdout",
     "output_type": "stream",
     "text": [
      "code: 5\n",
      "name: a\n",
      "0\n",
      "code: 9\n",
      "name: b\n",
      "1\n",
      "code: 6\n",
      "name: c\n",
      "2\n"
     ]
    },
    {
     "ename": "ValueError",
     "evalue": "zip() argument 2 is longer than argument 1",
     "output_type": "error",
     "traceback": [
      "\u001b[1;31m---------------------------------------------------------------------------\u001b[0m",
      "\u001b[1;31mValueError\u001b[0m                                Traceback (most recent call last)",
      "Cell \u001b[1;32mIn[21], line 1\u001b[0m\n\u001b[1;32m----> 1\u001b[0m \u001b[38;5;28;01mfor\u001b[39;00m i_c, i_n \u001b[38;5;129;01min\u001b[39;00m \u001b[38;5;28mzip\u001b[39m(code_list, name_list_v2, strict \u001b[38;5;241m=\u001b[39m \u001b[38;5;28;01mTrue\u001b[39;00m):\n\u001b[0;32m      2\u001b[0m     \u001b[38;5;66;03m# print(item)\u001b[39;00m\n\u001b[0;32m      3\u001b[0m     \u001b[38;5;28mprint\u001b[39m(\u001b[38;5;124mf\u001b[39m\u001b[38;5;124m\"\u001b[39m\u001b[38;5;124mcode: \u001b[39m\u001b[38;5;132;01m{\u001b[39;00mi_c\u001b[38;5;132;01m}\u001b[39;00m\u001b[38;5;124m\"\u001b[39m)\n\u001b[0;32m      4\u001b[0m     \u001b[38;5;28mprint\u001b[39m(\u001b[38;5;124mf\u001b[39m\u001b[38;5;124m\"\u001b[39m\u001b[38;5;124mname: \u001b[39m\u001b[38;5;132;01m{\u001b[39;00mi_n\u001b[38;5;132;01m}\u001b[39;00m\u001b[38;5;124m\"\u001b[39m)\n",
      "\u001b[1;31mValueError\u001b[0m: zip() argument 2 is longer than argument 1"
     ]
    }
   ],
   "source": [
    "for i_c, i_n in zip(code_list, name_list_v2, strict = True):\n",
    "    # print(item)\n",
    "    print(f\"code: {i_c}\")\n",
    "    print(f\"name: {i_n}\")\n",
    "    print(code_list.index(i_c))"
   ]
  },
  {
   "cell_type": "code",
   "execution_count": 19,
   "id": "53d36db1-1f06-43ec-8b99-a25452f9b3a6",
   "metadata": {},
   "outputs": [
    {
     "data": {
      "text/plain": [
       "\u001b[1;31mInit signature:\u001b[0m \u001b[0mzip\u001b[0m\u001b[1;33m(\u001b[0m\u001b[0mself\u001b[0m\u001b[1;33m,\u001b[0m \u001b[1;33m/\u001b[0m\u001b[1;33m,\u001b[0m \u001b[1;33m*\u001b[0m\u001b[0margs\u001b[0m\u001b[1;33m,\u001b[0m \u001b[1;33m**\u001b[0m\u001b[0mkwargs\u001b[0m\u001b[1;33m)\u001b[0m\u001b[1;33m\u001b[0m\u001b[1;33m\u001b[0m\u001b[0m\n",
       "\u001b[1;31mDocstring:\u001b[0m     \n",
       "zip(*iterables, strict=False) --> Yield tuples until an input is exhausted.\n",
       "\n",
       "   >>> list(zip('abcdefg', range(3), range(4)))\n",
       "   [('a', 0, 0), ('b', 1, 1), ('c', 2, 2)]\n",
       "\n",
       "The zip object yields n-length tuples, where n is the number of iterables\n",
       "passed as positional arguments to zip().  The i-th element in every tuple\n",
       "comes from the i-th iterable argument to zip().  This continues until the\n",
       "shortest argument is exhausted.\n",
       "\n",
       "If strict is true and one of the arguments is exhausted before the others,\n",
       "raise a ValueError.\n",
       "\u001b[1;31mType:\u001b[0m           type\n",
       "\u001b[1;31mSubclasses:\u001b[0m     "
      ]
     },
     "metadata": {},
     "output_type": "display_data"
    }
   ],
   "source": [
    "?zip"
   ]
  },
  {
   "cell_type": "code",
   "execution_count": 39,
   "id": "76bf8a94-b695-4cec-af90-4053054c7040",
   "metadata": {},
   "outputs": [],
   "source": [
    "data_list = zip(code_list, name_list)  "
   ]
  },
  {
   "cell_type": "code",
   "execution_count": 41,
   "id": "3d8ad373-726f-45d5-a239-14df0efab17b",
   "metadata": {},
   "outputs": [
    {
     "data": {
      "text/plain": [
       "<zip at 0x2a0e0431fc0>"
      ]
     },
     "execution_count": 41,
     "metadata": {},
     "output_type": "execute_result"
    }
   ],
   "source": [
    "data_list"
   ]
  },
  {
   "cell_type": "code",
   "execution_count": 43,
   "id": "f152234d-e0c8-4944-9615-3e42c0841c74",
   "metadata": {},
   "outputs": [
    {
     "name": "stdout",
     "output_type": "stream",
     "text": [
      "0\n",
      "(5, 'a')\n",
      "1\n",
      "(9, 'b')\n",
      "2\n",
      "(6, 'c')\n"
     ]
    }
   ],
   "source": [
    "for i, item in enumerate(data_list):\n",
    "    print(i)\n",
    "    print(item)\n",
    "    # print(f\"code: {i_c}\")\n",
    "    # print(f\"name: {i_n}\")\n",
    "    # print(code_list.index(i_c))"
   ]
  },
  {
   "cell_type": "code",
   "execution_count": null,
   "id": "72f17b7f-e44b-4cc5-b308-ffc6d627d518",
   "metadata": {},
   "outputs": [],
   "source": [
    "i_n"
   ]
  },
  {
   "cell_type": "code",
   "execution_count": null,
   "id": "e49169cc-4020-40e0-a336-c45faafff30b",
   "metadata": {},
   "outputs": [],
   "source": [
    "for i, item in enumerate(data_list):\n",
    "    print(i)\n",
    "    print(item)\n",
    "    # print(f\"code: {i_c}\")\n",
    "    # print(f\"name: {i_n}\")\n",
    "    # print(code_list.index(i_c))"
   ]
  }
 ],
 "metadata": {
  "kernelspec": {
   "display_name": "Python 3 (ipykernel)",
   "language": "python",
   "name": "python3"
  },
  "language_info": {
   "codemirror_mode": {
    "name": "ipython",
    "version": 3
   },
   "file_extension": ".py",
   "mimetype": "text/x-python",
   "name": "python",
   "nbconvert_exporter": "python",
   "pygments_lexer": "ipython3",
   "version": "3.12.4"
  }
 },
 "nbformat": 4,
 "nbformat_minor": 5
}
